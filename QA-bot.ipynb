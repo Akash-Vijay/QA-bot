{
 "cells": [
  {
   "cell_type": "code",
   "execution_count": null,
   "metadata": {},
   "outputs": [],
   "source": [
    "%pip install langchain\n",
    "%pip install pypdf\n",
    "%pip install langchain-text-splitters\n",
    "%pip install langchain_google_genai\n",
    "%pip install langchain-chroma"
   ]
  },
  {
   "cell_type": "code",
   "execution_count": 22,
   "metadata": {},
   "outputs": [],
   "source": [
    "import os\n",
    "from dotenv import load_dotenv\n",
    "\n",
    "load_dotenv()\n",
    "HUGGING_FACE_API = os.getenv('HUGGING_FACE_API')\n",
    "PINECONE_API_KEY = os.getenv('PINECONE_API')\n",
    "GOOGLE_API_KEY = os.getenv('GOOGLE_API')"
   ]
  },
  {
   "cell_type": "code",
   "execution_count": 2,
   "metadata": {},
   "outputs": [],
   "source": [
    "from langchain_community.document_loaders import PyPDFDirectoryLoader\n",
    "loader = PyPDFDirectoryLoader(\"pdfs/\")\n",
    "data = loader.load()"
   ]
  },
  {
   "cell_type": "code",
   "execution_count": 35,
   "metadata": {},
   "outputs": [],
   "source": [
    "from langchain.text_splitter import RecursiveCharacterTextSplitter\n",
    "\n",
    "text_splitter = RecursiveCharacterTextSplitter(\n",
    "\n",
    "    chunk_size=500,\n",
    "    chunk_overlap=20,\n",
    "    length_function=len,\n",
    "    is_separator_regex=False,\n",
    ")\n",
    "\n",
    "text_chunks = text_splitter.split_documents(data)\n"
   ]
  },
  {
   "cell_type": "code",
   "execution_count": 36,
   "metadata": {},
   "outputs": [],
   "source": [
    "from langchain_community.embeddings import HuggingFaceInferenceAPIEmbeddings\n",
    "\n",
    "embeddings = HuggingFaceInferenceAPIEmbeddings(\n",
    "    api_key=HUGGING_FACE_API, model_name=\"sentence-transformers/all-MiniLM-l6-v2\"\n",
    ")"
   ]
  },
  {
   "cell_type": "code",
   "execution_count": 59,
   "metadata": {},
   "outputs": [],
   "source": [
    "from langchain_chroma import Chroma\n",
    "\n",
    "db = Chroma.from_documents(text_chunks, embeddings, persist_directory=\"./chroma_db\")"
   ]
  },
  {
   "cell_type": "code",
   "execution_count": 65,
   "metadata": {},
   "outputs": [
    {
     "data": {
      "text/plain": [
       "'books?id=tsl3EVBtdxcC& pg=PA228& dq=Congregationalist+ + bill+ gates& hl=en& ei=GjuBTcCQI8uB0QHJo-yECQ& sa=X&\\noi=book_result& ct=result& resnum=10& ved=0CFwQ6AEwCQ#v=onepage& q& f=false). Columbia University Press. . Retrieved March\\n10, 2011. \"Bill Gates was a member of the baby boom, born in 1955 into an upper-middle-class family near Seattle.\" He attended the\\nCongregational Church, participated in the Boy Scouts, and went to a fancy private school.\"\\n[17](Manes 1994, p.\\xa024)'"
      ]
     },
     "execution_count": 65,
     "metadata": {},
     "output_type": "execute_result"
    }
   ],
   "source": [
    "query = \"When was Bill Gates Born?\"\n",
    "\n",
    "retriever = db.as_retriever(search_kwargs={\"k\": 2})\n",
    "retriever.get_relevant_documents(query)[0].page_content"
   ]
  },
  {
   "cell_type": "code",
   "execution_count": 62,
   "metadata": {},
   "outputs": [],
   "source": [
    "from langchain.chains import RetrievalQA\n",
    "from langchain_google_genai import ChatGoogleGenerativeAI\n",
    "\n",
    "chain = RetrievalQA.from_chain_type(llm=ChatGoogleGenerativeAI(model=\"gemini-pro\", google_api_key=GOOGLE_API_KEY, convert_system_message_to_human=True), chain_type=\"stuff\", retriever=retriever, return_source_documents=True)"
   ]
  },
  {
   "cell_type": "code",
   "execution_count": 66,
   "metadata": {},
   "outputs": [
    {
     "name": "stdout",
     "output_type": "stream",
     "text": [
      "{'query': 'When was Bill Gates Born?', 'result': '1955', 'source_documents': [Document(page_content='books?id=tsl3EVBtdxcC& pg=PA228& dq=Congregationalist+ + bill+ gates& hl=en& ei=GjuBTcCQI8uB0QHJo-yECQ& sa=X&\\noi=book_result& ct=result& resnum=10& ved=0CFwQ6AEwCQ#v=onepage& q& f=false). Columbia University Press. . Retrieved March\\n10, 2011. \"Bill Gates was a member of the baby boom, born in 1955 into an upper-middle-class family near Seattle.\" He attended the\\nCongregational Church, participated in the Boy Scouts, and went to a fancy private school.\"\\n[17](Manes 1994, p.\\xa024)', metadata={'page': 7, 'source': 'pdfs\\\\billgates.pdf'}), Document(page_content='books?id=tsl3EVBtdxcC& pg=PA228& dq=Congregationalist+ + bill+ gates& hl=en& ei=GjuBTcCQI8uB0QHJo-yECQ& sa=X&\\noi=book_result& ct=result& resnum=10& ved=0CFwQ6AEwCQ#v=onepage& q& f=false). Columbia University Press. . Retrieved March\\n10, 2011. \"Bill Gates was a member of the baby boom, born in 1955 into an upper-middle-class family near Seattle.\" He attended the\\nCongregational Church, participated in the Boy Scouts, and went to a fancy private school.\"\\n[17](Manes 1994, p.\\xa024)', metadata={'page': 7, 'source': 'pdfs\\\\billgates.pdf'})]}\n"
     ]
    }
   ],
   "source": [
    "print(chain({\"query\": query}))"
   ]
  },
  {
   "cell_type": "code",
   "execution_count": null,
   "metadata": {},
   "outputs": [],
   "source": []
  }
 ],
 "metadata": {
  "kernelspec": {
   "display_name": "Python 3",
   "language": "python",
   "name": "python3"
  },
  "language_info": {
   "codemirror_mode": {
    "name": "ipython",
    "version": 3
   },
   "file_extension": ".py",
   "mimetype": "text/x-python",
   "name": "python",
   "nbconvert_exporter": "python",
   "pygments_lexer": "ipython3",
   "version": "3.10.14"
  }
 },
 "nbformat": 4,
 "nbformat_minor": 2
}
